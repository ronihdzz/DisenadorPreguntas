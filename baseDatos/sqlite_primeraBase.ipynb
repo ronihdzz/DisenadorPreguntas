{
 "cells": [
  {
   "cell_type": "markdown",
   "metadata": {},
   "source": [
    "Pasos para crear una base de datos...\n",
    "\n",
    "* Abrir-Crear conexion\n",
    "* Crear puntero\n",
    "* Ejecutar query(consulta) SQL\n",
    "* Manejar los resultados de la query(consulta)\n",
    "* Cerrar puntero\n",
    "* Cerrar conexion"
   ]
  },
  {
   "cell_type": "code",
   "execution_count": 33,
   "metadata": {},
   "outputs": [],
   "source": [
    "import sqlite3\n",
    "#Abriendo o crenado conexion\n",
    "miConexion=sqlite3.connect(\"PrimeraBase\")\n",
    "\n",
    "#Puntero de la base...\n",
    "miCursor=miConexion.cursor()\n",
    "\n",
    "#entre los parametros de la funcion 'execute'\n",
    "#ponemos las instrucciones SQL\n",
    "#INSTRUCCIONES:\n",
    "# CREATE TABLE nombreTabla (campos)\n",
    "#    (NOMBRE_ARTICULO_1 TIPODATO_1, NOMBREARTICULO_2 TIPODATO_2 NOMBREARTICULO_2, ...)\n",
    "#    \n",
    "\n",
    "\n",
    "#VARCHAR(longitud) ==>String con longitud fija..\n",
    "#INTEGER ==>dato de tipo entero\n",
    "\n",
    "#creando tabla...\n",
    "#Solo se debe ejecutar una vez la siguiente linea de codigo, pues si la volvemos \n",
    "#a ejecutar el programa detectara que la tabla ya existe:\n",
    "\n",
    "miCursor.execute(\"CREATE TABLE PRODUCTOS (NOMBRE_ARTICULO VARCHAR(50),\"\n",
    "                 \"PRECIO INTEGER, SECCION VARCHAR(20))\")\n",
    "\n",
    "\n",
    "# ¿Como insertar datos?\n",
    "miCursor.execute(\"INSERT INTO PRODUCTOS VALUES('Roni Hdz',15,'Apasionado genio')\")\n",
    "\n",
    "\n",
    "#Cada vez que hacemos un cambio en el contenido debemos verificar\n",
    "#que queremos hacer ese cambio...\n",
    "\n",
    "#Confirmamos los cambios...\n",
    "\n",
    "miConexion.commit()\n",
    "miConexion.close()\n",
    "\n"
   ]
  },
  {
   "cell_type": "markdown",
   "metadata": {},
   "source": [
    "# Insertandos varios registros a la vez...\n"
   ]
  },
  {
   "cell_type": "code",
   "execution_count": 39,
   "metadata": {},
   "outputs": [],
   "source": [
    "#Abriendo o crenado conexion\n",
    "miConexion=sqlite3.connect(\"PrimeraBase\")\n",
    "\n",
    "#Puntero de la base...\n",
    "miCursor=miConexion.cursor()\n",
    "\n",
    "\n",
    "#Lista de tuplas, donde cada tupla\n",
    "#representa los datos de cada renglon...\n",
    "variosProductos=[\n",
    "    (\"Julian\",10,\"Sopreidad\"),\n",
    "    (\"Fransisco\",9,\"Muyctivo\"),\n",
    "    (\"Pedro\",8,\"Mirada pda\")\n",
    "]\n",
    "\n",
    "#Dentro de la funcion va la instruccion SQLITE\n",
    "miCursor.executemany(\"INSERT INTO PRODUCTOS VALUES(?,?,?)\",variosProductos)\n",
    "\n",
    "#Confirmamos los cambios...\n",
    "miConexion.commit()\n",
    "\n",
    "\n",
    "miConexion.close()\n"
   ]
  },
  {
   "cell_type": "markdown",
   "metadata": {},
   "source": [
    "# Recuperacion de varios registros"
   ]
  },
  {
   "cell_type": "code",
   "execution_count": 41,
   "metadata": {},
   "outputs": [
    {
     "name": "stdout",
     "output_type": "stream",
     "text": [
      "[('Roni Hdz', 15, 'Apasionado genio'), ('Julian', 10, 'Sopreidad'), ('Julian', 10, 'Sopreidad'), ('Fransisco', 9, 'Muyctivo'), ('Pedro', 8, 'Mirada pda')]\n"
     ]
    }
   ],
   "source": [
    "#Abriendo o crenado conexion\n",
    "miConexion=sqlite3.connect(\"PrimeraBase\")\n",
    "\n",
    "#Puntero de la base...\n",
    "miCursor=miConexion.cursor()\n",
    "#SELECT * ==>NOS DEVUELVE TODOS LOS PRODUCTOS...\n",
    "miCursor.execute(\"SELECT * FROM PRODUCTOS\")\n",
    "variosProductos=miCursor.fetchall()#devuelve una lista con\n",
    "                                   #todos los registros que devuelve\n",
    "                                   #la instruccion sql\n",
    "print(variosProductos)\n",
    "#Confirmamos los cambios...\n",
    "miConexion.commit()\n",
    "\n",
    "miConexion.close()\n"
   ]
  },
  {
   "cell_type": "markdown",
   "metadata": {},
   "source": [
    "# Como gestionar las claves principales de una base de datos\n"
   ]
  },
  {
   "cell_type": "code",
   "execution_count": 53,
   "metadata": {},
   "outputs": [
    {
     "ename": "IntegrityError",
     "evalue": "UNIQUE constraint failed: PRODUCTOS.CODIGO_ARTICULO",
     "output_type": "error",
     "traceback": [
      "\u001b[0;31m---------------------------------------------------------------------------\u001b[0m",
      "\u001b[0;31mIntegrityError\u001b[0m                            Traceback (most recent call last)",
      "\u001b[0;32m<ipython-input-53-e32222c235de>\u001b[0m in \u001b[0;36m<module>\u001b[0;34m\u001b[0m\n\u001b[1;32m     21\u001b[0m \u001b[0;34m\u001b[0m\u001b[0m\n\u001b[1;32m     22\u001b[0m \u001b[0;31m#Dentro de la funcion va la instruccion SQLITE\u001b[0m\u001b[0;34m\u001b[0m\u001b[0;34m\u001b[0m\u001b[0;34m\u001b[0m\u001b[0m\n\u001b[0;32m---> 23\u001b[0;31m \u001b[0mmiCursor\u001b[0m\u001b[0;34m.\u001b[0m\u001b[0mexecutemany\u001b[0m\u001b[0;34m(\u001b[0m\u001b[0;34m\"INSERT INTO PRODUCTOS VALUES(?,?,?,?)\"\u001b[0m\u001b[0;34m,\u001b[0m\u001b[0mproductos\u001b[0m\u001b[0;34m)\u001b[0m\u001b[0;34m\u001b[0m\u001b[0;34m\u001b[0m\u001b[0m\n\u001b[0m\u001b[1;32m     24\u001b[0m \u001b[0;34m\u001b[0m\u001b[0m\n\u001b[1;32m     25\u001b[0m \u001b[0;31m#Confirmamos los cambios...\u001b[0m\u001b[0;34m\u001b[0m\u001b[0;34m\u001b[0m\u001b[0;34m\u001b[0m\u001b[0m\n",
      "\u001b[0;31mIntegrityError\u001b[0m: UNIQUE constraint failed: PRODUCTOS.CODIGO_ARTICULO"
     ]
    }
   ],
   "source": [
    "miConexion=sqlite3.connect(\"Roni\")\n",
    "miCursor=miConexion.cursor()\n",
    "\n",
    "\"\"\"\n",
    "    #PRIMARY KEY==>ATRIBUTO QUE SERA LA LLAVE\n",
    "    miCursor.execute('''\n",
    "        CREATE TABLE PRODUCTOS(\n",
    "        CODIGO_ARTICULO VARCHAR(4) PRIMARY KEY,\n",
    "        NOMBRE_ARTICULO VARCHAR(50),\n",
    "        PRECIO INTEGER,\n",
    "        SECCION VARCHAR(20))\n",
    "    '''\n",
    "    )\n",
    "\"\"\"\n",
    "\n",
    "productos=[\n",
    "    (\"400\",\"Roni\",20,\"Apasionado\"),\n",
    "    (\"500\",\"Fransico\",22,\"Emprendedor\"),\n",
    "    (\"600\",\"Julian\",23,\"Curioso\")\n",
    "]\n",
    "\n",
    "#Dentro de la funcion va la instruccion SQLITE\n",
    "miCursor.executemany(\"INSERT INTO PRODUCTOS VALUES(?,?,?,?)\",productos)\n",
    "\n",
    "#Confirmamos los cambios...\n",
    "miConexion.commit()\n",
    "miConexion.close()\n",
    "\n",
    "#¿QUE PASO SI INGRESO UN DATO CON UNA CLAVE QUE YA EXISTE?\n",
    "#Marcara error porque esa clave ya existe..\n",
    "\n"
   ]
  },
  {
   "cell_type": "markdown",
   "metadata": {},
   "source": [
    "#  Automatizando las claves...\n"
   ]
  },
  {
   "cell_type": "code",
   "execution_count": 55,
   "metadata": {},
   "outputs": [],
   "source": [
    "miConexion=sqlite3.connect(\"Julian\")\n",
    "miCursor=miConexion.cursor()\n",
    "\n",
    "\"\"\"\n",
    "    #CUANDO QUEREMOS QUE LAS CLAVES SEA AUTOMATICAS\n",
    "    #POR CONVENCION SE LES SUELE ASIGNAR EL NOMBRE DE ID..\n",
    "    #PRIMARY KEY==>ATRIBUTO QUE SERA LA LLAVE\n",
    "    #AUTOINCREMENT ==>Los id se iran enumerando\n",
    "    miCursor.execute('''\n",
    "        CREATE TABLE PRODUCTOS(\n",
    "        ID INTEGER PRIMARY KEY AUTOINCREMENT,\n",
    "        NOMBRE_ARTICULO VARCHAR(50),\n",
    "        PRECIO INTEGER,\n",
    "        SECCION VARCHAR(20))\n",
    "    '''\n",
    "    )\n",
    "\"\"\"\n",
    "\n",
    "\n",
    "#ya no necesitamos la seccion de CLAVE, por eso\n",
    "#cada tupla solo tiene un elemento...\n",
    "productos=[\n",
    "    (\"Roni\",20,\"Apasionado\"),\n",
    "    (\"Fransico\",22,\"Emprendedor\"),\n",
    "    (\"Julian\",23,\"Curioso\")\n",
    "]\n",
    "\n",
    "#como podemos ver en la seccion de clave, pusimos un NULL ya que de esa \n",
    "#manera le indicamos a python que no ponemos dato ahi,porque es el que \n",
    "#el generara como ID\n",
    "#Dentro de la funcion va la instruccion SQLITE\n",
    "miCursor.executemany(\"INSERT INTO PRODUCTOS VALUES(NULL,?,?,?)\",productos)\n",
    "\n",
    "#Confirmamos los cambios...\n",
    "miConexion.commit()\n",
    "miConexion.close()\n",
    "\n",
    "#¿QUE PASO SI INGRESO UN DATO CON UNA CLAVE QUE YA EXISTE?\n",
    "#Marcara error porque esa clave ya existe..\n"
   ]
  },
  {
   "cell_type": "markdown",
   "metadata": {},
   "source": [
    "# UNIQUE\n",
    "Basicamente sirve para que la informacion de algun atributo no se repeti, hacerlos unicos e irrepetibles.\n",
    "Puede poner tantos quiera:\n",
    "~~~\n",
    "    miCursor.execute('''\n",
    "        CREATE TABLE PRODUCTOS(\n",
    "        ID INTEGER PRIMARY KEY AUTOINCREMENT,\n",
    "        NOMBRE_ARTICULO VARCHAR(50) UNIQUE,\n",
    "        PRECIO INTEGER UNIQUE,\n",
    "        SECCION VARCHAR(20))\n",
    "    '''\n",
    "    )\n",
    "~~~\n",
    "En el ejemplo anterior, pusimos  a Nombre del articulo como precio, unicos e irrepetibles, es decir si despues queremos agregar un datos con datos que ya tenemos de ese producto, no lo permitira la base de datos\n",
    "\n"
   ]
  },
  {
   "cell_type": "markdown",
   "metadata": {},
   "source": [
    "# Como jalar datos particulares...\n",
    "\n"
   ]
  },
  {
   "cell_type": "code",
   "execution_count": 42,
   "metadata": {},
   "outputs": [
    {
     "name": "stdout",
     "output_type": "stream",
     "text": [
      "[('Julian', 10, 'Sopreidad'), ('Julian', 10, 'Sopreidad')]\n"
     ]
    }
   ],
   "source": [
    "#Abriendo o crenado conexion\n",
    "miConexion=sqlite3.connect(\"PrimeraBase\")\n",
    "\n",
    "#Puntero de la base...\n",
    "miCursor=miConexion.cursor()\n",
    "#SELECT * ==>NOS DEVUELVE TODOS LOS PRODUCTOS...\n",
    "miCursor.execute(\"SELECT * FROM PRODUCTOS WHERE NOMBRE_ARTICULO='Julian'\")\n",
    "\n",
    "\n",
    "variosProductos=miCursor.fetchall()#devuelve una lista con\n",
    "                                   #todos los registros que devuelve\n",
    "                                   #la instruccion sql\n",
    "print(variosProductos)\n",
    "#Confirmamos los cambios...\n",
    "miConexion.commit()\n",
    "\n",
    "miConexion.close()\n"
   ]
  },
  {
   "cell_type": "markdown",
   "metadata": {},
   "source": [
    "# Actualizacion de registros 'UPDATE'"
   ]
  },
  {
   "cell_type": "code",
   "execution_count": 48,
   "metadata": {},
   "outputs": [],
   "source": [
    "#Abriendo o crenado conexion\n",
    "miConexion=sqlite3.connect(\"PrimeraBase\")\n",
    "\n",
    "#Puntero de la base...\n",
    "miCursor=miConexion.cursor()\n",
    "#SELECT * ==>NOS DEVUELVE TODOS LOS PRODUCTOS...\n",
    "miCursor.execute(\"UPDATE PRODUCTOS SET PRECIO=100 WHERE NOMBRE_ARTICULO='Julian'\")\n",
    "\n",
    "#Confirmamos los cambios...\n",
    "miConexion.commit()\n",
    "\n",
    "miConexion.close()\n"
   ]
  },
  {
   "cell_type": "markdown",
   "metadata": {},
   "source": [
    "# Borrar datos...\n",
    "\n",
    "Podemos borrar por el nombre del articulo,tambien podemos borrar por el nombre del ID, por el precio o cualquier articulo"
   ]
  },
  {
   "cell_type": "code",
   "execution_count": 47,
   "metadata": {},
   "outputs": [],
   "source": [
    "#Abriendo o crenado conexion\n",
    "miConexion=sqlite3.connect(\"PrimeraBase\")\n",
    "\n",
    "#Puntero de la base...\n",
    "miCursor=miConexion.cursor()\n",
    "#SELECT * ==>NOS DEVUELVE TODOS LOS PRODUCTOS...\n",
    "miCursor.execute(\"DELETE FROM PRODUCTOS WHERE NOMBRE_ARTICULO='Julian'\")\n",
    "#Confirmamos los cambios...\n",
    "miConexion.commit()\n",
    "\n",
    "miConexion.close()"
   ]
  },
  {
   "cell_type": "code",
   "execution_count": null,
   "metadata": {},
   "outputs": [],
   "source": []
  }
 ],
 "metadata": {
  "kernelspec": {
   "display_name": "Python 3",
   "language": "python",
   "name": "python3"
  },
  "language_info": {
   "codemirror_mode": {
    "name": "ipython",
    "version": 3
   },
   "file_extension": ".py",
   "mimetype": "text/x-python",
   "name": "python",
   "nbconvert_exporter": "python",
   "pygments_lexer": "ipython3",
   "version": "3.6.9"
  }
 },
 "nbformat": 4,
 "nbformat_minor": 4
}
